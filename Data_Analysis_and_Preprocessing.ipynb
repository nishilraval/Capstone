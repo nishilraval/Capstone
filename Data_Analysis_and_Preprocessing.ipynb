{
 "cells": [
  {
   "cell_type": "markdown",
   "metadata": {},
   "source": [
    "## Load imports"
   ]
  },
  {
   "cell_type": "code",
   "execution_count": null,
   "metadata": {},
   "outputs": [],
   "source": [
    "%run Imports\\&functions.ipynb"
   ]
  },
  {
   "cell_type": "markdown",
   "metadata": {},
   "source": [
    "## Data Analysis"
   ]
  },
  {
   "cell_type": "code",
   "execution_count": null,
   "metadata": {},
   "outputs": [],
   "source": [
    "# list of binetflow files\n",
    "binetflow_list =[\"binetflow/capture20110810.binetflow\",\n",
    "                 \"binetflow/capture20110811.binetflow\",\n",
    "                 \"binetflow/capture20110812.binetflow\",\n",
    "                 \"binetflow/capture20110815-2.binetflow\",\n",
    "                 \"binetflow/capture20110815-3.binetflow\",\n",
    "                 \"binetflow/capture20110815.binetflow\",\n",
    "                 \"binetflow/capture20110816-2.binetflow\",\n",
    "                 \"binetflow/capture20110816-3.binetflow\",\n",
    "                 \"binetflow/capture20110816.binetflow\",\n",
    "                 \"binetflow/capture20110817.binetflow\",\n",
    "                 \"binetflow/capture20110818.binetflow\",\n",
    "                 \"binetflow/capture20110818-2.binetflow\",\n",
    "                 \"binetflow/capture20110819.binetflow\"]\n",
    "\n",
    "# read binetflows into df1...df13 variables\n",
    "i = 1\n",
    "for binetflow in binetflow_list:\n",
    "    globals()[\"df\" + str(i)] = pd.read_csv(binetflow)\n",
    "    i+=1\n",
    "    \n",
    "#place newly read pandas into list for easier data processing\n",
    "df_list = [df1,df2,df3,df4,df5,\n",
    "           df6,df7,df8,df9,df10,\n",
    "           df11,df12,df13]"
   ]
  },
  {
   "cell_type": "code",
   "execution_count": null,
   "metadata": {},
   "outputs": [],
   "source": [
    "#drop null values\n",
    "#Most from one column but Dropping column lost more information than dropping nulls\n",
    "for df in df_list:\n",
    "    df.dropna(inplace=True)"
   ]
  },
  {
   "cell_type": "code",
   "execution_count": null,
   "metadata": {},
   "outputs": [],
   "source": [
    "#Change Label column from string to boolean for modeling\n",
    "for df in df_list:\n",
    "    df.Label = df.Label.str.contains(\"Botnet\")"
   ]
  },
  {
   "cell_type": "code",
   "execution_count": null,
   "metadata": {},
   "outputs": [],
   "source": [
    "#Source address and Start time not used in this analysis\n",
    "#Removed to save space and memory\n",
    "for df in df_list:\n",
    "    df.drop('StartTime',axis=1, inplace=True)\n",
    "    df.drop('SrcAddr',axis=1, inplace=True)"
   ]
  },
  {
   "cell_type": "code",
   "execution_count": null,
   "metadata": {},
   "outputs": [],
   "source": [
    "#adding dataframes together for use in cloud instance\n",
    "total_df = df1.append(df2)\n",
    "total_df = total_df.append(df3)\n",
    "total_df = total_df.append(df4)\n",
    "total_df = total_df.append(df5)\n",
    "total_df = total_df.append(df6)"
   ]
  },
  {
   "cell_type": "code",
   "execution_count": null,
   "metadata": {},
   "outputs": [],
   "source": [
    "#Split up append functions individually rather than loop\n",
    "#Because of checking shape and errors throughout \n",
    "total_df = total_df.append(df7)\n",
    "total_df = total_df.append(df8)\n",
    "total_df = total_df.append(df9)\n",
    "total_df = total_df.append(df10)\n",
    "total_df = total_df.append(df11)\n",
    "total_df = total_df.append(df12)\n",
    "total_df = total_df.append(df13)"
   ]
  },
  {
   "cell_type": "code",
   "execution_count": null,
   "metadata": {},
   "outputs": [],
   "source": [
    "total_df.shape"
   ]
  },
  {
   "cell_type": "code",
   "execution_count": null,
   "metadata": {
    "collapsed": true
   },
   "outputs": [],
   "source": [
    "total_df.dtypes"
   ]
  },
  {
   "cell_type": "code",
   "execution_count": null,
   "metadata": {},
   "outputs": [],
   "source": [
    "#Check y value counts for modeling\n",
    "total_df.Label.value_counts(normalize=True)"
   ]
  },
  {
   "cell_type": "code",
   "execution_count": null,
   "metadata": {},
   "outputs": [],
   "source": [
    "#Noticed identical rows when all dataframes added together\n",
    "total_df.drop_duplicates(inplace=True)"
   ]
  },
  {
   "cell_type": "markdown",
   "metadata": {},
   "source": [
    "## Feature Engineering"
   ]
  },
  {
   "cell_type": "code",
   "execution_count": null,
   "metadata": {},
   "outputs": [],
   "source": [
    "#regex pattern for grabbing first 6 digits of IP address\n",
    "pattern =\"^\\d{1,3}\\.\\d{1,3}\\.\"\n",
    "#replace column values with pattern grab\n",
    "total_df['DstAddr'] = total_df['DstAddr'].map(lambda x: re.findall(pattern,x)[0])"
   ]
  },
  {
   "cell_type": "code",
   "execution_count": null,
   "metadata": {},
   "outputs": [],
   "source": [
    "#get dummies of categorical values that don't have value counts over 30\n",
    "total_df = pd.get_dummies(total_df, columns=['State','Proto','Dir'], drop_first=True)"
   ]
  },
  {
   "cell_type": "code",
   "execution_count": null,
   "metadata": {},
   "outputs": [],
   "source": [
    "#Random sampling of minority and majority values\n",
    "#READ THIS: n_samples value significantly lowered for notebooks to be able to run on laptops \n",
    "#Label value is what we are trying to predict\n",
    "\n",
    "df_majority = total_df[total_df.Label==False]\n",
    "df_minority = total_df[total_df.Label==True]\n",
    "\n",
    "df_majority_downsampled = resample(df_majority, \n",
    "                                 replace=True,     # sample with replacement\n",
    "                                 n_samples=50000,# to match majority class\n",
    "                                 random_state=42) # reproducible results\n",
    "\n",
    "# upsample minority class\n",
    "df_minority_upsampled = resample(df_minority, \n",
    "                                 replace=True,     # sample with replacement\n",
    "                                 n_samples=50000,# to match minority class\n",
    "                                 random_state=42) # reproducible results\n",
    " "
   ]
  },
  {
   "cell_type": "code",
   "execution_count": null,
   "metadata": {},
   "outputs": [],
   "source": [
    "df_minority_upsampled[df_minority_upsampled.Label==True].shape"
   ]
  },
  {
   "cell_type": "code",
   "execution_count": null,
   "metadata": {},
   "outputs": [],
   "source": [
    "df_majority_downsampled[df_majority_downsampled.Label==False].shape"
   ]
  },
  {
   "cell_type": "code",
   "execution_count": null,
   "metadata": {},
   "outputs": [],
   "source": [
    "# Combine upsampled minority class with majority class\n",
    "sampled_df = pd.concat([df_minority_upsampled, df_majority_downsampled])"
   ]
  },
  {
   "cell_type": "code",
   "execution_count": null,
   "metadata": {},
   "outputs": [],
   "source": [
    "#Sanity check\n",
    "sampled_df[sampled_df.Label==True].shape"
   ]
  },
  {
   "cell_type": "code",
   "execution_count": null,
   "metadata": {},
   "outputs": [],
   "source": [
    "#Grab top 100 value counts of the three remaining categorical columns\n",
    "\n",
    "top_dstaddr = sampled_df.DstAddr.value_counts().index[:100]\n",
    "top_dport = sampled_df.Dport.value_counts().index[:100]\n",
    "top_sport = sampled_df.Sport.value_counts().index[:100]\n",
    "\n",
    "# assign values to pandas dataframe\n",
    "dstaddr_dummies= dum_sign(top_dstaddr)\n",
    "dport_dummies= dum_sign(top_dport)\n",
    "sport_dummies= dum_sign(top_sport)"
   ]
  },
  {
   "cell_type": "code",
   "execution_count": null,
   "metadata": {},
   "outputs": [],
   "source": [
    "#join dumies to sampled_df\n",
    "sampled_df= sampled_df.join(dstaddr_dummies)\n",
    "sampled_df= sampled_df.join(dport_dummies)\n",
    "# sampled_df= sampled_df.join(sport_dummies)"
   ]
  },
  {
   "cell_type": "code",
   "execution_count": null,
   "metadata": {},
   "outputs": [],
   "source": [
    "#sanity check\n",
    "sampled_df[sampled_df.Label==True].shape"
   ]
  },
  {
   "cell_type": "code",
   "execution_count": null,
   "metadata": {},
   "outputs": [],
   "source": [
    "#remove dummied columns to save memory\n",
    "sampled_df = sampled_df.drop(axis=1,labels=['DstAddr','Dport','Sport'])"
   ]
  }
 ],
 "metadata": {
  "kernelspec": {
   "display_name": "Python 3",
   "language": "python",
   "name": "python3"
  },
  "language_info": {
   "codemirror_mode": {
    "name": "ipython",
    "version": 3
   },
   "file_extension": ".py",
   "mimetype": "text/x-python",
   "name": "python",
   "nbconvert_exporter": "python",
   "pygments_lexer": "ipython3",
   "version": "3.6.8"
  }
 },
 "nbformat": 4,
 "nbformat_minor": 2
}
