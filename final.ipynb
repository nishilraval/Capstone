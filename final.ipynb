{
 "cells": [
  {
   "cell_type": "code",
   "execution_count": 3,
   "metadata": {},
   "outputs": [],
   "source": [
    "%run Imports\\&functions.ipynb"
   ]
  },
  {
   "cell_type": "code",
   "execution_count": 6,
   "metadata": {},
   "outputs": [],
   "source": [
    "# list of binetflow files\n",
    "#READ ME: This is only a fraction of the entire dataset\n",
    "#Github does not allow file size above 100mb\n",
    "#This is only 78mb of an 2.73 Gb total\n",
    "binetflow_list =[ \"binetflow/capture20110816-2.binetflow\",\n",
    "                 \"binetflow/capture20110818-2.binetflow\",\n",
    "                 \"binetflow/capture20110819.binetflow\"]\n",
    "\n",
    "# read binetflows into df1-df13 variables\n",
    "i = 1\n",
    "for binetflow in binetflow_list:\n",
    "    globals()[\"df\" + str(i)] = pd.read_csv(binetflow)\n",
    "    i+=1\n",
    "\n",
    "#place newly read pandas into list for easier data processing\n",
    "# df_list = [df1,df2,df3,df4,df5,\n",
    "#            df6,df7,df8,df9,df10,\n",
    "#            df11,df12,df13]\n",
    "\n",
    "#changed for smaller dataset\n",
    "df_list = [df1,df2,df3]"
   ]
  },
  {
   "cell_type": "code",
   "execution_count": null,
   "metadata": {},
   "outputs": [],
   "source": [
    "#Drop null values\n",
    "#Most from one column but Dropping column lost more information than dropping nulls\n",
    "for df in df_list:\n",
    "    df.dropna(inplace=True)"
   ]
  },
  {
   "cell_type": "code",
   "execution_count": null,
   "metadata": {},
   "outputs": [],
   "source": [
    "#Change Label column from string to boolean for modeling\n",
    "for df in df_list:\n",
    "    df.Label = df.Label.str.contains(\"Botnet\")"
   ]
  },
  {
   "cell_type": "code",
   "execution_count": null,
   "metadata": {},
   "outputs": [],
   "source": [
    "for df in df_list:\n",
    "    df.drop('StartTime',axis=1, inplace=True)\n",
    "    df.drop('SrcAddr',axis=1, inplace=True)\n",
    "    "
   ]
  },
  {
   "cell_type": "code",
   "execution_count": null,
   "metadata": {},
   "outputs": [],
   "source": [
    "#adding dataframes together for use in cloud instance\n",
    "total_df = df1.append(df2)\n",
    "total_df = total_df.append(df3)\n",
    "total_df = total_df.append(df4)\n",
    "total_df = total_df.append(df5)\n",
    "total_df = total_df.append(df6)\n",
    "total_df = total_df.append(df7)\n",
    "total_df = total_df.append(df8)\n",
    "total_df = total_df.append(df9)\n",
    "total_df = total_df.append(df10)\n",
    "total_df = total_df.append(df11)\n",
    "total_df = total_df.append(df12)\n",
    "total_df = total_df.append(df13)\n",
    "#Split up append functions individually rather than loop\n",
    "#Because of checking shape and errors throughout "
   ]
  },
  {
   "cell_type": "code",
   "execution_count": null,
   "metadata": {},
   "outputs": [],
   "source": [
    "#Noticed identical rows when all dataframes added together\n",
    "total_df.drop_duplicates(inplace=True)"
   ]
  },
  {
   "cell_type": "code",
   "execution_count": null,
   "metadata": {},
   "outputs": [],
   "source": [
    "#regex pattern for grabbing first 6 digits of IP address\n",
    "pattern =\"^\\d{1,3}\\.\\d{1,3}\\.\"\n",
    "#replace column values with pattern grab\n",
    "total_df['DstAddr'] = total_df['DstAddr'].map(lambda x: re.findall(pattern,x)[0])"
   ]
  },
  {
   "cell_type": "code",
   "execution_count": null,
   "metadata": {},
   "outputs": [],
   "source": [
    "#get dummies of categorical values that don't have value counts over 30\n",
    "total_df = pd.get_dummies(total_df, columns=['State','Proto','Dir'], drop_first=True)"
   ]
  },
  {
   "cell_type": "code",
   "execution_count": null,
   "metadata": {},
   "outputs": [],
   "source": [
    "total_df.shape"
   ]
  },
  {
   "cell_type": "code",
   "execution_count": null,
   "metadata": {},
   "outputs": [],
   "source": [
    "#Random sampling of minority and majority values\n",
    "#READ THIS: n_samples value significantly lowered for notebooks to be able to run on laptops \n",
    "#Label value is what we are trying to predict\n",
    "\n",
    "df_majority = total_df[total_df.Label==False]\n",
    "df_minority = total_df[total_df.Label==True]\n",
    "\n",
    "df_majority_downsampled = resample(df_majority, \n",
    "                                 replace=False,     # sample with replacement\n",
    "                                 n_samples=50000,# to match majority class\n",
    "                                 random_state=42) # reproducible results\n",
    "\n",
    "# upsample minority class\n",
    "df_minority_upsampled = resample(df_minority, \n",
    "                                 replace=False,     # sample with replacement\n",
    "                                 n_samples=50000,# to match minority class\n",
    "                                 random_state=42) # reproducible results\n",
    " "
   ]
  },
  {
   "cell_type": "code",
   "execution_count": null,
   "metadata": {},
   "outputs": [],
   "source": [
    "df_minority_upsampled[df_minority_upsampled.Label==True].shape"
   ]
  },
  {
   "cell_type": "code",
   "execution_count": null,
   "metadata": {},
   "outputs": [],
   "source": [
    "df_majority_downsampled[df_majority_downsampled.Label==False].shape"
   ]
  },
  {
   "cell_type": "code",
   "execution_count": null,
   "metadata": {},
   "outputs": [],
   "source": [
    "# Combine upsampled minority class with majority class\n",
    "sampled_df = pd.concat([df_minority_upsampled, df_majority_downsampled])"
   ]
  },
  {
   "cell_type": "code",
   "execution_count": null,
   "metadata": {},
   "outputs": [],
   "source": [
    "sampled_df[sampled_df.Label==True].shape"
   ]
  },
  {
   "cell_type": "code",
   "execution_count": null,
   "metadata": {},
   "outputs": [],
   "source": [
    "#Grab top 100 value counts of the three remaining categorical columns\n",
    "\n",
    "top_dstaddr = sampled_df.DstAddr.value_counts().index[:100]\n",
    "top_dport = sampled_df.Dport.value_counts().index[:100]\n",
    "top_sport = sampled_df.Sport.value_counts().index[:100]\n",
    "\n",
    "# func that returns a dummified DataFrame of significant dummies in a given column\n",
    "def dum_sign(dummy_col, threshold=1):\n",
    "\n",
    "    # removes the bind\n",
    "    dummy_col = dummy_col.copy()\n",
    "\n",
    "    # what is the ratio of a dummy in whole column\n",
    "    count = pd.value_counts(dummy_col) / len(dummy_col)\n",
    "\n",
    "    # cond whether the ratios is higher than the threshold\n",
    "    mask = dummy_col.isin(count[count > threshold].index)\n",
    "\n",
    "    # replace the ones which ratio is lower than the threshold by a special name\n",
    "    #dummy_col[~mask] = \"others\"\n",
    "\n",
    "    return pd.get_dummies(dummy_col, prefix=dummy_col.name)\n",
    "\n",
    "# assign values to pandas dataframe\n",
    "dstaddr_dummies= dum_sign(top_dstaddr)\n",
    "dport_dummies= dum_sign(top_dport)\n",
    "sport_dummies= dum_sign(top_sport)"
   ]
  },
  {
   "cell_type": "code",
   "execution_count": null,
   "metadata": {},
   "outputs": [],
   "source": [
    "sampled_df= sampled_df.join(dstaddr_dummies)"
   ]
  },
  {
   "cell_type": "code",
   "execution_count": null,
   "metadata": {},
   "outputs": [],
   "source": [
    "sampled_df= sampled_df.join(dport_dummies)"
   ]
  },
  {
   "cell_type": "code",
   "execution_count": null,
   "metadata": {},
   "outputs": [],
   "source": [
    "# sampled_df= sampled_df.join(sport_dummies)"
   ]
  },
  {
   "cell_type": "code",
   "execution_count": null,
   "metadata": {},
   "outputs": [],
   "source": [
    "# sampled_df = pd.get_dummies(df, columns=['DstAddr'], drop_first=True)\n",
    "# sampled_df.isnull().sum()\n",
    "sampled_df[sampled_df.Label==True].shape"
   ]
  },
  {
   "cell_type": "code",
   "execution_count": null,
   "metadata": {},
   "outputs": [],
   "source": [
    "#remove dummied columns to save memory\n",
    "sampled_df = sampled_df.drop(axis=1,labels=['DstAddr','Dport','Sport'])"
   ]
  },
  {
   "cell_type": "code",
   "execution_count": null,
   "metadata": {},
   "outputs": [],
   "source": [
    "sampled_df= sampled_df.fillna(0)"
   ]
  },
  {
   "cell_type": "code",
   "execution_count": null,
   "metadata": {},
   "outputs": [],
   "source": [
    "from sklearn.model_selection import train_test_split\n",
    "\n",
    "y = sampled_df['Label']\n",
    "X = sampled_df.drop(axis=1,columns=['Label'])\n",
    "\n",
    "# Import and do Train/Test Split\n",
    "\n",
    "X_train, X_test, y_train, y_test = train_test_split(X,y,test_size = 0.25,random_state = 42)"
   ]
  },
  {
   "cell_type": "code",
   "execution_count": null,
   "metadata": {},
   "outputs": [],
   "source": [
    "from sklearn.linear_model import LogisticRegression\n",
    "\n",
    "logmod = LogisticRegression(max_iter=1000,verbose=1)\n",
    "\n",
    "# Fit on training data.\n",
    "logmod.fit(X_train, y_train)\n",
    "\n",
    "# Print coefficients.\n",
    "print('Intercept:', logmod.intercept_)\n",
    "print('Coef(s):', logmod.coef_)\n",
    "\n",
    "logmod.score(X_test,y_test)"
   ]
  },
  {
   "cell_type": "code",
   "execution_count": null,
   "metadata": {},
   "outputs": [],
   "source": [
    "# Import libraries and modules\n",
    "\n",
    "from keras.models import Sequential\n",
    "from keras.layers import Dense, Dropout, Activation, Flatten\n",
    "from keras.layers import Conv2D, MaxPooling2D\n",
    "from keras.utils import np_utils"
   ]
  },
  {
   "cell_type": "code",
   "execution_count": null,
   "metadata": {},
   "outputs": [],
   "source": [
    "model = Sequential()\n",
    "\n",
    "n_input = X_train.shape[1]\n",
    "n_hidden = n_input\n",
    "\n",
    "model.add(Dense(n_hidden, input_dim=n_input, activation='relu'))\n",
    "model.add(Dense(1, activation='sigmoid'))"
   ]
  },
  {
   "cell_type": "code",
   "execution_count": null,
   "metadata": {},
   "outputs": [],
   "source": [
    "model.compile(loss='binary_crossentropy',\n",
    "              optimizer='adam',\n",
    "              metrics=['accuracy'])"
   ]
  },
  {
   "cell_type": "code",
   "execution_count": null,
   "metadata": {},
   "outputs": [],
   "source": [
    "model.fit(X_train,\n",
    "          y_train,\n",
    "          batch_size = 589,\n",
    "          epochs = 1000,\n",
    "          verbose = 1)"
   ]
  },
  {
   "cell_type": "code",
   "execution_count": null,
   "metadata": {},
   "outputs": [],
   "source": [
    "score = model.evaluate(X_test, y_test, verbose=0)\n",
    "labels = model.metrics_names\n",
    "print(f'{labels[0]}: {score[0]}')\n",
    "print(f'{labels[1]}: {score[1]}')"
   ]
  },
  {
   "cell_type": "code",
   "execution_count": null,
   "metadata": {},
   "outputs": [],
   "source": [
    "model.summary()\n"
   ]
  },
  {
   "cell_type": "code",
   "execution_count": null,
   "metadata": {},
   "outputs": [],
   "source": []
  }
 ],
 "metadata": {
  "kernelspec": {
   "display_name": "Python 3",
   "language": "python",
   "name": "python3"
  },
  "language_info": {
   "codemirror_mode": {
    "name": "ipython",
    "version": 3
   },
   "file_extension": ".py",
   "mimetype": "text/x-python",
   "name": "python",
   "nbconvert_exporter": "python",
   "pygments_lexer": "ipython3",
   "version": "3.6.8"
  }
 },
 "nbformat": 4,
 "nbformat_minor": 2
}
