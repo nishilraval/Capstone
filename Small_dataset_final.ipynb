{
 "cells": [
  {
   "cell_type": "code",
   "execution_count": 1,
   "metadata": {},
   "outputs": [],
   "source": [
    "%run Imports\\&functions.ipynb"
   ]
  },
  {
   "cell_type": "code",
   "execution_count": 2,
   "metadata": {},
   "outputs": [],
   "source": [
    "# list of binetflow files\n",
    "#READ ME: This is only a fraction of the entire dataset\n",
    "#Github does not allow file size above 100mb\n",
    "#This is only 78mb of an 2.73 Gb total\n",
    "binetflow_list =[ \"binetflow/capture20110816-2.binetflow\",\n",
    "                 \"binetflow/capture20110818-2.binetflow\",\n",
    "                 \"binetflow/capture20110819.binetflow\"]\n",
    "\n",
    "# read binetflows into df1-df13 variables\n",
    "i = 1\n",
    "for binetflow in binetflow_list:\n",
    "    globals()[\"df\" + str(i)] = pd.read_csv(binetflow)\n",
    "    i+=1\n",
    "\n",
    "#place newly read pandas into list for easier data processing\n",
    "# df_list = [df1,df2,df3,df4,df5,\n",
    "#            df6,df7,df8,df9,df10,\n",
    "#            df11,df12,df13]\n",
    "\n",
    "#changed for smaller dataset\n",
    "df_list = [df1,df2,df3]"
   ]
  },
  {
   "cell_type": "code",
   "execution_count": 3,
   "metadata": {},
   "outputs": [],
   "source": [
    "#Drop null values\n",
    "#Most from one column but Dropping column lost more information than dropping nulls\n",
    "for df in df_list:\n",
    "    df.dropna(inplace=True)"
   ]
  },
  {
   "cell_type": "code",
   "execution_count": 4,
   "metadata": {},
   "outputs": [],
   "source": [
    "#Change Label column from string to boolean for modeling\n",
    "for df in df_list:\n",
    "    df.Label = df.Label.str.contains(\"Botnet\")"
   ]
  },
  {
   "cell_type": "code",
   "execution_count": 5,
   "metadata": {},
   "outputs": [],
   "source": [
    "for df in df_list:\n",
    "    df.drop('StartTime',axis=1, inplace=True)\n",
    "    df.drop('SrcAddr',axis=1, inplace=True)\n",
    "    "
   ]
  },
  {
   "cell_type": "code",
   "execution_count": 6,
   "metadata": {},
   "outputs": [],
   "source": [
    "#adding dataframes together for use in cloud instance\n",
    "total_df = df1.append(df2)\n",
    "total_df = total_df.append(df3)\n",
    "\n",
    "# total_df = total_df.append(df4)\n",
    "# total_df = total_df.append(df5)\n",
    "# total_df = total_df.append(df6)\n",
    "# total_df = total_df.append(df7)\n",
    "# total_df = total_df.append(df8)\n",
    "# total_df = total_df.append(df9)\n",
    "# total_df = total_df.append(df10)\n",
    "# total_df = total_df.append(df11)\n",
    "# total_df = total_df.append(df12)\n",
    "# total_df = total_df.append(df13)\n",
    "\n",
    "# #Split up append functions individually rather than loop\n",
    "#Because of checking shape and errors throughout "
   ]
  },
  {
   "cell_type": "code",
   "execution_count": 7,
   "metadata": {},
   "outputs": [],
   "source": [
    "#Noticed identical rows when all dataframes added together\n",
    "total_df.drop_duplicates(inplace=True)"
   ]
  },
  {
   "cell_type": "code",
   "execution_count": 8,
   "metadata": {},
   "outputs": [],
   "source": [
    "#regex pattern for grabbing first 6 digits of IP address\n",
    "pattern =\"^\\d{1,3}\\.\\d{1,3}\\.\"\n",
    "#replace column values with pattern grab\n",
    "total_df['DstAddr'] = total_df['DstAddr'].map(lambda x: re.findall(pattern,x)[0])"
   ]
  },
  {
   "cell_type": "code",
   "execution_count": 9,
   "metadata": {},
   "outputs": [],
   "source": [
    "#get dummies of categorical values that don't have value counts over 30\n",
    "total_df = pd.get_dummies(total_df, columns=['State','Proto','Dir'], drop_first=True)"
   ]
  },
  {
   "cell_type": "code",
   "execution_count": 10,
   "metadata": {},
   "outputs": [
    {
     "data": {
      "text/plain": [
       "(490375, 177)"
      ]
     },
     "execution_count": 10,
     "metadata": {},
     "output_type": "execute_result"
    }
   ],
   "source": [
    "total_df.shape"
   ]
  },
  {
   "cell_type": "code",
   "execution_count": 11,
   "metadata": {},
   "outputs": [
    {
     "data": {
      "text/plain": [
       "False    0.996941\n",
       "True     0.003059\n",
       "Name: Label, dtype: float64"
      ]
     },
     "execution_count": 11,
     "metadata": {},
     "output_type": "execute_result"
    }
   ],
   "source": [
    "total_df.Label.value_counts(normalize=True)"
   ]
  },
  {
   "cell_type": "code",
   "execution_count": 12,
   "metadata": {},
   "outputs": [],
   "source": [
    "#Random sampling of minority and majority values\n",
    "#READ THIS: n_samples value significantly lowered for notebooks to be able to run on laptops \n",
    "#Label value is what we are trying to predict\n",
    "\n",
    "df_majority = total_df[total_df.Label==False]\n",
    "df_minority = total_df[total_df.Label==True]\n",
    "\n",
    "df_majority_downsampled = resample(df_majority, \n",
    "                                 replace=False,\n",
    "                                 n_samples=50000,# to match majority class\n",
    "                                 random_state=42) # reproducible results\n",
    "\n",
    "# upsample minority class\n",
    "df_minority_upsampled = resample(df_minority, \n",
    "                                 replace=True,     # sample with replacement\n",
    "                                 n_samples=20000,# to match minority class\n",
    "                                 random_state=42) # reproducible results\n",
    " "
   ]
  },
  {
   "cell_type": "code",
   "execution_count": 13,
   "metadata": {},
   "outputs": [
    {
     "data": {
      "text/plain": [
       "(20000, 177)"
      ]
     },
     "execution_count": 13,
     "metadata": {},
     "output_type": "execute_result"
    }
   ],
   "source": [
    "df_minority_upsampled[df_minority_upsampled.Label==True].shape"
   ]
  },
  {
   "cell_type": "code",
   "execution_count": 14,
   "metadata": {},
   "outputs": [
    {
     "data": {
      "text/plain": [
       "(50000, 177)"
      ]
     },
     "execution_count": 14,
     "metadata": {},
     "output_type": "execute_result"
    }
   ],
   "source": [
    "df_majority_downsampled[df_majority_downsampled.Label==False].shape"
   ]
  },
  {
   "cell_type": "code",
   "execution_count": 15,
   "metadata": {},
   "outputs": [],
   "source": [
    "# Combine upsampled minority class with majority class\n",
    "sampled_df = pd.concat([df_minority_upsampled, df_majority_downsampled])"
   ]
  },
  {
   "cell_type": "code",
   "execution_count": 16,
   "metadata": {},
   "outputs": [
    {
     "data": {
      "text/plain": [
       "(20000, 177)"
      ]
     },
     "execution_count": 16,
     "metadata": {},
     "output_type": "execute_result"
    }
   ],
   "source": [
    "sampled_df[sampled_df.Label==True].shape"
   ]
  },
  {
   "cell_type": "code",
   "execution_count": 17,
   "metadata": {},
   "outputs": [],
   "source": [
    "#Grab top 100 value counts of the three remaining categorical columns\n",
    "\n",
    "top_dstaddr = sampled_df.DstAddr.value_counts().index[:100]\n",
    "top_dport = sampled_df.Dport.value_counts().index[:100]\n",
    "top_sport = sampled_df.Sport.value_counts().index[:100]\n",
    "\n",
    "# func that returns a dummified DataFrame of significant dummies in a given column\n",
    "def dum_sign(dummy_col, threshold=1):\n",
    "\n",
    "    # removes the bind\n",
    "    dummy_col = dummy_col.copy()\n",
    "\n",
    "    # what is the ratio of a dummy in whole column\n",
    "    count = pd.value_counts(dummy_col) / len(dummy_col)\n",
    "\n",
    "    # cond whether the ratios is higher than the threshold\n",
    "    mask = dummy_col.isin(count[count > threshold].index)\n",
    "\n",
    "    # replace the ones which ratio is lower than the threshold by a special name\n",
    "    #dummy_col[~mask] = \"others\"\n",
    "\n",
    "    return pd.get_dummies(dummy_col, prefix=dummy_col.name)\n",
    "\n",
    "# assign values to pandas dataframe\n",
    "dstaddr_dummies= dum_sign(top_dstaddr)\n",
    "dport_dummies= dum_sign(top_dport)\n",
    "sport_dummies= dum_sign(top_sport)"
   ]
  },
  {
   "cell_type": "code",
   "execution_count": 18,
   "metadata": {},
   "outputs": [],
   "source": [
    "sampled_df= sampled_df.join(dstaddr_dummies)"
   ]
  },
  {
   "cell_type": "code",
   "execution_count": 19,
   "metadata": {},
   "outputs": [],
   "source": [
    "sampled_df= sampled_df.join(dport_dummies)"
   ]
  },
  {
   "cell_type": "code",
   "execution_count": 20,
   "metadata": {},
   "outputs": [],
   "source": [
    "# sampled_df= sampled_df.join(sport_dummies)"
   ]
  },
  {
   "cell_type": "code",
   "execution_count": 21,
   "metadata": {},
   "outputs": [
    {
     "data": {
      "text/plain": [
       "(20000, 377)"
      ]
     },
     "execution_count": 21,
     "metadata": {},
     "output_type": "execute_result"
    }
   ],
   "source": [
    "# sampled_df = pd.get_dummies(df, columns=['DstAddr'], drop_first=True)\n",
    "# sampled_df.isnull().sum()\n",
    "sampled_df[sampled_df.Label==True].shape"
   ]
  },
  {
   "cell_type": "code",
   "execution_count": 22,
   "metadata": {},
   "outputs": [],
   "source": [
    "#remove dummied columns to save memory\n",
    "sampled_df = sampled_df.drop(axis=1,labels=['DstAddr','Dport','Sport'])"
   ]
  },
  {
   "cell_type": "code",
   "execution_count": 23,
   "metadata": {},
   "outputs": [],
   "source": [
    "sampled_df= sampled_df.fillna(0)"
   ]
  },
  {
   "cell_type": "code",
   "execution_count": 24,
   "metadata": {},
   "outputs": [],
   "source": [
    "from sklearn.model_selection import train_test_split\n",
    "\n",
    "y = sampled_df['Label']\n",
    "X = sampled_df.drop(axis=1,columns=['Label'])\n",
    "\n",
    "# Import and do Train/Test Split\n",
    "\n",
    "X_train, X_test, y_train, y_test = train_test_split(X,y,test_size = 0.25,random_state = 42)"
   ]
  },
  {
   "cell_type": "code",
   "execution_count": 25,
   "metadata": {},
   "outputs": [
    {
     "name": "stderr",
     "output_type": "stream",
     "text": [
      "/anaconda3/lib/python3.6/site-packages/sklearn/linear_model/logistic.py:433: FutureWarning: Default solver will be changed to 'lbfgs' in 0.22. Specify a solver to silence this warning.\n",
      "  FutureWarning)\n"
     ]
    },
    {
     "name": "stdout",
     "output_type": "stream",
     "text": [
      "[LibLinear]Intercept: [-0.08371199]\n",
      "Coef(s): [[ 8.44032488e-05 -2.13031546e-04 -1.39316744e-05  9.85061019e-04\n",
      "   1.50612436e-06 -9.70961474e-05 -4.31201809e-06  0.00000000e+00\n",
      "   0.00000000e+00  0.00000000e+00  0.00000000e+00  0.00000000e+00\n",
      "  -7.02412864e-02 -1.48529698e-04 -1.83503566e-05 -2.60897525e-04\n",
      "  -2.17658126e-05 -2.28023891e-05  0.00000000e+00 -3.20433755e-05\n",
      "  -1.38018339e-05  0.00000000e+00 -4.06866961e-05 -1.68223116e-04\n",
      "  -4.44623496e-06 -1.37658244e-05  0.00000000e+00 -8.82562966e-06\n",
      "  -4.38727689e-06 -4.59224251e-06 -4.44817306e-06 -4.37102760e-06\n",
      "   0.00000000e+00 -4.58494650e-06 -4.55380717e-06  0.00000000e+00\n",
      "   0.00000000e+00  0.00000000e+00  0.00000000e+00  0.00000000e+00\n",
      "   0.00000000e+00 -4.39643892e-06 -1.50729883e-05 -7.69578283e-06\n",
      "   0.00000000e+00 -4.56847473e-06  3.40770075e-05 -2.29082395e-03\n",
      "  -6.84438165e-05 -7.73251989e-05  0.00000000e+00  0.00000000e+00\n",
      "  -4.51456714e-06 -7.77717155e-05 -4.53548640e-06 -4.38018849e-06\n",
      "   0.00000000e+00  0.00000000e+00  0.00000000e+00  0.00000000e+00\n",
      "   0.00000000e+00 -2.68542781e-04 -1.10098567e-02  0.00000000e+00\n",
      "  -3.14406156e-05 -3.03839506e-04 -4.53969103e-06 -3.56459421e-05\n",
      "  -8.88582477e-06 -8.32924025e-05 -1.36237271e-05 -2.27502764e-05\n",
      "  -8.91868687e-06 -1.32670332e-05  0.00000000e+00  0.00000000e+00\n",
      "  -4.42394742e-06  0.00000000e+00  0.00000000e+00 -5.78339611e-04\n",
      "  -2.66784612e-05 -1.67196446e-04  1.10990330e-04 -2.53382366e-05\n",
      "  -9.15019279e-06 -4.57138436e-06  0.00000000e+00 -2.23062140e-05\n",
      "  -1.76983644e-05  0.00000000e+00  0.00000000e+00 -1.01591613e-03\n",
      "  -4.51781935e-06 -1.48033814e-15 -1.60331764e-05 -1.16525018e-06\n",
      "   0.00000000e+00 -4.58715467e-06 -2.27758487e-05 -9.09186304e-06\n",
      "   0.00000000e+00  5.45678893e-05  0.00000000e+00  0.00000000e+00\n",
      "  -1.30183500e-06 -4.55673261e-06  0.00000000e+00 -2.74719018e-05\n",
      "  -4.05407730e-06  0.00000000e+00 -4.54715454e-06 -3.21537815e-05\n",
      "   0.00000000e+00 -1.22167787e-04 -1.70075469e-04 -1.83861538e-05\n",
      "   0.00000000e+00 -6.86140124e-05  0.00000000e+00 -6.41539322e-05\n",
      "   0.00000000e+00  0.00000000e+00  0.00000000e+00  0.00000000e+00\n",
      "   0.00000000e+00  0.00000000e+00  0.00000000e+00  4.16556614e-04\n",
      "  -4.43909016e-06 -8.36764724e-05  0.00000000e+00 -4.63289242e-06\n",
      "  -6.32176562e-04 -1.36051472e-05 -9.60477890e-05  0.00000000e+00\n",
      "  -2.74076543e-05 -8.19261624e-05  0.00000000e+00 -4.56508010e-06\n",
      "  -1.46231626e-04  0.00000000e+00  0.00000000e+00  0.00000000e+00\n",
      "   6.28256723e-05 -2.67691094e-05  3.36345294e-03  0.00000000e+00\n",
      "  -2.35533589e-04  5.23698605e-05  2.49145853e-03  0.00000000e+00\n",
      "  -9.14778868e-06 -4.58485713e-06  0.00000000e+00  1.34223401e-04\n",
      "   0.00000000e+00  0.00000000e+00  0.00000000e+00 -7.24548614e-04\n",
      "   0.00000000e+00 -4.67050869e-04  0.00000000e+00 -3.20875927e-05\n",
      "  -6.16092513e-05  1.16644912e-04 -1.33721924e-02 -7.02463013e-02\n",
      "   0.00000000e+00  0.00000000e+00 -4.54715454e-06 -7.03898161e-02\n",
      "  -1.78026482e-03  0.00000000e+00 -3.30784177e-06  0.00000000e+00\n",
      "   0.00000000e+00  0.00000000e+00  0.00000000e+00  0.00000000e+00\n",
      "   0.00000000e+00  0.00000000e+00 -4.58485713e-06  0.00000000e+00\n",
      "   0.00000000e+00 -9.15288161e-06 -4.23997991e-06 -4.45976288e-06\n",
      "   0.00000000e+00  0.00000000e+00  0.00000000e+00  0.00000000e+00\n",
      "   0.00000000e+00  0.00000000e+00  0.00000000e+00  0.00000000e+00\n",
      "  -4.58502584e-06  0.00000000e+00  0.00000000e+00 -4.03614922e-06\n",
      "  -1.38543992e-09  0.00000000e+00  0.00000000e+00  0.00000000e+00\n",
      "   0.00000000e+00  0.00000000e+00  0.00000000e+00 -4.58502577e-06\n",
      "   0.00000000e+00  0.00000000e+00  0.00000000e+00  0.00000000e+00\n",
      "   0.00000000e+00  0.00000000e+00  0.00000000e+00  0.00000000e+00\n",
      "   0.00000000e+00  0.00000000e+00  0.00000000e+00  0.00000000e+00\n",
      "   0.00000000e+00  0.00000000e+00  0.00000000e+00  0.00000000e+00\n",
      "   0.00000000e+00  0.00000000e+00  0.00000000e+00 -4.58518353e-06\n",
      "  -4.57388307e-06  0.00000000e+00 -4.58095129e-06  0.00000000e+00\n",
      "   0.00000000e+00 -1.48033814e-15  0.00000000e+00 -4.58092019e-06\n",
      "   0.00000000e+00  0.00000000e+00  0.00000000e+00  0.00000000e+00\n",
      "  -4.58403083e-06  0.00000000e+00  0.00000000e+00 -2.48430914e-15\n",
      "  -4.59573442e-06  0.00000000e+00 -9.17136438e-06 -4.58502496e-06\n",
      "  -4.58620647e-06  0.00000000e+00  0.00000000e+00  0.00000000e+00\n",
      "   0.00000000e+00  0.00000000e+00  0.00000000e+00  0.00000000e+00\n",
      "   0.00000000e+00  0.00000000e+00 -2.21732369e-07  0.00000000e+00\n",
      "  -4.58056614e-06  0.00000000e+00  0.00000000e+00  0.00000000e+00\n",
      "   0.00000000e+00  0.00000000e+00 -3.97879795e-15  0.00000000e+00\n",
      "   0.00000000e+00  0.00000000e+00 -2.03442866e-06  0.00000000e+00\n",
      "  -9.03624855e-16 -4.58403083e-06  0.00000000e+00  0.00000000e+00\n",
      "   0.00000000e+00  0.00000000e+00  0.00000000e+00 -9.15288161e-06\n",
      "  -9.03624855e-16 -4.58502584e-06  0.00000000e+00  0.00000000e+00\n",
      "   0.00000000e+00  0.00000000e+00 -4.58485713e-06  0.00000000e+00\n",
      "  -2.48430914e-15 -4.59573442e-06  0.00000000e+00  0.00000000e+00\n",
      "   0.00000000e+00  0.00000000e+00  0.00000000e+00  0.00000000e+00\n",
      "   0.00000000e+00  0.00000000e+00 -9.17136438e-06  0.00000000e+00\n",
      "   0.00000000e+00  0.00000000e+00 -4.58095129e-06  0.00000000e+00\n",
      "  -4.58092019e-06 -2.03442866e-06 -1.48033814e-15 -1.38543992e-09\n",
      "  -4.45976288e-06  0.00000000e+00 -4.58620647e-06  0.00000000e+00\n",
      "   0.00000000e+00  0.00000000e+00 -4.58502496e-06  0.00000000e+00\n",
      "   0.00000000e+00  0.00000000e+00  0.00000000e+00  0.00000000e+00\n",
      "  -4.03614922e-06  0.00000000e+00  0.00000000e+00  0.00000000e+00\n",
      "   0.00000000e+00  0.00000000e+00  0.00000000e+00  0.00000000e+00\n",
      "  -4.58518353e-06  0.00000000e+00  0.00000000e+00  0.00000000e+00\n",
      "  -4.23997991e-06  0.00000000e+00  0.00000000e+00 -2.21732369e-07\n",
      "   0.00000000e+00  0.00000000e+00  0.00000000e+00  0.00000000e+00\n",
      "   0.00000000e+00  0.00000000e+00  0.00000000e+00  0.00000000e+00\n",
      "   0.00000000e+00  0.00000000e+00  0.00000000e+00  0.00000000e+00\n",
      "   0.00000000e+00  0.00000000e+00  0.00000000e+00 -3.97879795e-15\n",
      "  -4.58056614e-06 -3.30784177e-06  0.00000000e+00  0.00000000e+00\n",
      "  -4.57388307e-06  0.00000000e+00  0.00000000e+00  0.00000000e+00\n",
      "  -4.58502577e-06  0.00000000e+00  0.00000000e+00  0.00000000e+00\n",
      "   0.00000000e+00  0.00000000e+00  0.00000000e+00  0.00000000e+00\n",
      "   0.00000000e+00  0.00000000e+00  0.00000000e+00  0.00000000e+00\n",
      "   0.00000000e+00]]\n"
     ]
    },
    {
     "name": "stderr",
     "output_type": "stream",
     "text": [
      "/anaconda3/lib/python3.6/site-packages/sklearn/svm/base.py:931: ConvergenceWarning: Liblinear failed to converge, increase the number of iterations.\n",
      "  \"the number of iterations.\", ConvergenceWarning)\n"
     ]
    },
    {
     "data": {
      "text/plain": [
       "0.7114285714285714"
      ]
     },
     "execution_count": 25,
     "metadata": {},
     "output_type": "execute_result"
    }
   ],
   "source": [
    "from sklearn.linear_model import LogisticRegression\n",
    "\n",
    "logmod = LogisticRegression(max_iter=1000,verbose=1)\n",
    "\n",
    "# Fit on training data.\n",
    "logmod.fit(X_train, y_train)\n",
    "\n",
    "# Print coefficients.\n",
    "print('Intercept:', logmod.intercept_)\n",
    "print('Coef(s):', logmod.coef_)\n",
    "\n",
    "logmod.score(X_test,y_test)"
   ]
  },
  {
   "cell_type": "code",
   "execution_count": 26,
   "metadata": {},
   "outputs": [
    {
     "name": "stderr",
     "output_type": "stream",
     "text": [
      "Using TensorFlow backend.\n"
     ]
    }
   ],
   "source": [
    "# Import libraries and modules\n",
    "\n",
    "from keras.models import Sequential\n",
    "from keras.layers import Dense, Dropout, Activation, Flatten\n",
    "from keras.layers import Conv2D, MaxPooling2D\n",
    "from keras.utils import np_utils"
   ]
  },
  {
   "cell_type": "code",
   "execution_count": 36,
   "metadata": {},
   "outputs": [],
   "source": [
    "model = Sequential()\n",
    "\n",
    "n_input = X_train.shape[1]\n",
    "n_hidden = n_input\n",
    "\n",
    "model.add(Dense(n_hidden, input_dim=n_input, activation='relu'))\n",
    "# model.add(Dense(, activation='relu'))\n",
    "model.add(Dense(1, activation='sigmoid'))"
   ]
  },
  {
   "cell_type": "code",
   "execution_count": 37,
   "metadata": {},
   "outputs": [],
   "source": [
    "model.compile(loss='binary_crossentropy',\n",
    "              optimizer='adam',\n",
    "              metrics=['accuracy'])"
   ]
  },
  {
   "cell_type": "code",
   "execution_count": 38,
   "metadata": {},
   "outputs": [
    {
     "name": "stdout",
     "output_type": "stream",
     "text": [
      "Epoch 1/50\n",
      "52500/52500 [==============================] - 2s 34us/step - loss: 2.9037 - acc: 0.6525\n",
      "Epoch 2/50\n",
      "52500/52500 [==============================] - 1s 28us/step - loss: 3.0546 - acc: 0.6592\n",
      "Epoch 3/50\n",
      "52500/52500 [==============================] - 1s 28us/step - loss: 2.9259 - acc: 0.6826\n",
      "Epoch 4/50\n",
      "52500/52500 [==============================] - 1s 28us/step - loss: 3.0874 - acc: 0.6655\n",
      "Epoch 5/50\n",
      "52500/52500 [==============================] - 1s 28us/step - loss: 2.9778 - acc: 0.6972\n",
      "Epoch 6/50\n",
      "52500/52500 [==============================] - 1s 28us/step - loss: 3.0632 - acc: 0.6623\n",
      "Epoch 7/50\n",
      "52500/52500 [==============================] - 1s 28us/step - loss: 4.5901 - acc: 0.7152\n",
      "Epoch 8/50\n",
      "52500/52500 [==============================] - 2s 29us/step - loss: 4.5901 - acc: 0.7152\n",
      "Epoch 9/50\n",
      "52500/52500 [==============================] - 1s 28us/step - loss: 4.5901 - acc: 0.7152\n",
      "Epoch 10/50\n",
      "52500/52500 [==============================] - 1s 28us/step - loss: 4.5901 - acc: 0.7152\n",
      "Epoch 11/50\n",
      "52500/52500 [==============================] - 1s 28us/step - loss: 4.5901 - acc: 0.7152\n",
      "Epoch 12/50\n",
      "52500/52500 [==============================] - 1s 28us/step - loss: 4.5901 - acc: 0.7152\n",
      "Epoch 13/50\n",
      "52500/52500 [==============================] - 1s 28us/step - loss: 4.5901 - acc: 0.7152\n",
      "Epoch 14/50\n",
      "52500/52500 [==============================] - 1s 28us/step - loss: 4.5901 - acc: 0.7152\n",
      "Epoch 15/50\n",
      "52500/52500 [==============================] - 1s 28us/step - loss: 4.5901 - acc: 0.7152\n",
      "Epoch 16/50\n",
      "52500/52500 [==============================] - 1s 28us/step - loss: 4.5901 - acc: 0.7152\n",
      "Epoch 17/50\n",
      "52500/52500 [==============================] - 1s 28us/step - loss: 4.5901 - acc: 0.7152\n",
      "Epoch 18/50\n",
      "52500/52500 [==============================] - 1s 28us/step - loss: 4.5901 - acc: 0.7152\n",
      "Epoch 19/50\n",
      "52500/52500 [==============================] - 1s 28us/step - loss: 4.5901 - acc: 0.7152\n",
      "Epoch 20/50\n",
      "52500/52500 [==============================] - 1s 28us/step - loss: 4.5901 - acc: 0.7152\n",
      "Epoch 21/50\n",
      "52500/52500 [==============================] - 1s 28us/step - loss: 4.5901 - acc: 0.7152\n",
      "Epoch 22/50\n",
      "52500/52500 [==============================] - 1s 28us/step - loss: 4.5901 - acc: 0.7152\n",
      "Epoch 23/50\n",
      "52500/52500 [==============================] - 1s 28us/step - loss: 4.5901 - acc: 0.7152\n",
      "Epoch 24/50\n",
      "52500/52500 [==============================] - 1s 28us/step - loss: 4.5901 - acc: 0.7152\n",
      "Epoch 25/50\n",
      "52500/52500 [==============================] - 1s 28us/step - loss: 4.5901 - acc: 0.7152\n",
      "Epoch 26/50\n",
      "52500/52500 [==============================] - 1s 28us/step - loss: 4.5901 - acc: 0.7152\n",
      "Epoch 27/50\n",
      "52500/52500 [==============================] - 1s 28us/step - loss: 4.5901 - acc: 0.7152\n",
      "Epoch 28/50\n",
      "52500/52500 [==============================] - 1s 28us/step - loss: 4.5901 - acc: 0.7152\n",
      "Epoch 29/50\n",
      "52500/52500 [==============================] - 1s 28us/step - loss: 4.5901 - acc: 0.7152\n",
      "Epoch 30/50\n",
      "52500/52500 [==============================] - 1s 28us/step - loss: 4.5901 - acc: 0.7152\n",
      "Epoch 31/50\n",
      "52500/52500 [==============================] - 1s 28us/step - loss: 4.5901 - acc: 0.7152\n",
      "Epoch 32/50\n",
      "52500/52500 [==============================] - 1s 28us/step - loss: 4.5901 - acc: 0.7152\n",
      "Epoch 33/50\n",
      "52500/52500 [==============================] - 1s 28us/step - loss: 4.5901 - acc: 0.7152\n",
      "Epoch 34/50\n",
      "52500/52500 [==============================] - 1s 28us/step - loss: 4.5901 - acc: 0.7152\n",
      "Epoch 35/50\n",
      "52500/52500 [==============================] - 1s 28us/step - loss: 4.5901 - acc: 0.7152\n",
      "Epoch 36/50\n",
      "52500/52500 [==============================] - 1s 28us/step - loss: 4.5901 - acc: 0.7152\n",
      "Epoch 37/50\n",
      "52500/52500 [==============================] - 1s 28us/step - loss: 4.5901 - acc: 0.7152\n",
      "Epoch 38/50\n",
      "52500/52500 [==============================] - 1s 28us/step - loss: 4.5901 - acc: 0.7152\n",
      "Epoch 39/50\n",
      "52500/52500 [==============================] - 1s 28us/step - loss: 4.5901 - acc: 0.7152\n",
      "Epoch 40/50\n",
      "52500/52500 [==============================] - 1s 28us/step - loss: 4.5901 - acc: 0.7152\n",
      "Epoch 41/50\n",
      "52500/52500 [==============================] - 1s 28us/step - loss: 4.5901 - acc: 0.7152\n",
      "Epoch 42/50\n",
      "52500/52500 [==============================] - 2s 29us/step - loss: 4.5901 - acc: 0.7152\n",
      "Epoch 43/50\n",
      "52500/52500 [==============================] - 1s 28us/step - loss: 4.5901 - acc: 0.7152\n",
      "Epoch 44/50\n",
      "52500/52500 [==============================] - 1s 28us/step - loss: 4.5901 - acc: 0.7152\n",
      "Epoch 45/50\n",
      "52500/52500 [==============================] - 1s 28us/step - loss: 4.5901 - acc: 0.7152\n",
      "Epoch 46/50\n",
      "52500/52500 [==============================] - 1s 28us/step - loss: 4.5901 - acc: 0.7152\n",
      "Epoch 47/50\n",
      "52500/52500 [==============================] - 1s 28us/step - loss: 4.5901 - acc: 0.7152\n",
      "Epoch 48/50\n",
      "52500/52500 [==============================] - 1s 28us/step - loss: 4.5901 - acc: 0.7152\n",
      "Epoch 49/50\n",
      "52500/52500 [==============================] - 1s 28us/step - loss: 4.5901 - acc: 0.7152\n",
      "Epoch 50/50\n",
      "52500/52500 [==============================] - 1s 28us/step - loss: 4.5901 - acc: 0.7152\n"
     ]
    },
    {
     "data": {
      "text/plain": [
       "<keras.callbacks.History at 0x12b262240>"
      ]
     },
     "execution_count": 38,
     "metadata": {},
     "output_type": "execute_result"
    }
   ],
   "source": [
    "#Epoch smaller for the notebook by 2 orders of magnitude\n",
    "model.fit(X_train,\n",
    "          y_train,\n",
    "          batch_size = 589,\n",
    "          epochs = 50,\n",
    "          verbose = 1)"
   ]
  },
  {
   "cell_type": "code",
   "execution_count": 39,
   "metadata": {},
   "outputs": [
    {
     "name": "stdout",
     "output_type": "stream",
     "text": [
      "loss: 4.650300817108154\n",
      "acc: 0.7114857142857143\n"
     ]
    }
   ],
   "source": [
    "score = model.evaluate(X_test, y_test, verbose=0)\n",
    "labels = model.metrics_names\n",
    "print(f'{labels[0]}: {score[0]}')\n",
    "print(f'{labels[1]}: {score[1]}')"
   ]
  },
  {
   "cell_type": "code",
   "execution_count": 40,
   "metadata": {},
   "outputs": [
    {
     "name": "stdout",
     "output_type": "stream",
     "text": [
      "_________________________________________________________________\n",
      "Layer (type)                 Output Shape              Param #   \n",
      "=================================================================\n",
      "dense_11 (Dense)             (None, 373)               139502    \n",
      "_________________________________________________________________\n",
      "dense_12 (Dense)             (None, 1)                 374       \n",
      "=================================================================\n",
      "Total params: 139,876\n",
      "Trainable params: 139,876\n",
      "Non-trainable params: 0\n",
      "_________________________________________________________________\n"
     ]
    }
   ],
   "source": [
    "model.summary()\n"
   ]
  },
  {
   "cell_type": "code",
   "execution_count": null,
   "metadata": {},
   "outputs": [],
   "source": []
  }
 ],
 "metadata": {
  "kernelspec": {
   "display_name": "Python 3",
   "language": "python",
   "name": "python3"
  },
  "language_info": {
   "codemirror_mode": {
    "name": "ipython",
    "version": 3
   },
   "file_extension": ".py",
   "mimetype": "text/x-python",
   "name": "python",
   "nbconvert_exporter": "python",
   "pygments_lexer": "ipython3",
   "version": "3.6.8"
  }
 },
 "nbformat": 4,
 "nbformat_minor": 2
}
